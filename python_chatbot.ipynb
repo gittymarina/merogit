{
  "nbformat": 4,
  "nbformat_minor": 0,
  "metadata": {
    "colab": {
      "private_outputs": true,
      "provenance": [],
      "authorship_tag": "ABX9TyOxYakz3k0jVOo2eQImo3M3",
      "include_colab_link": true
    },
    "kernelspec": {
      "name": "python3",
      "display_name": "Python 3"
    },
    "language_info": {
      "name": "python"
    }
  },
  "cells": [
    {
      "cell_type": "markdown",
      "metadata": {
        "id": "view-in-github",
        "colab_type": "text"
      },
      "source": [
        "<a href=\"https://colab.research.google.com/github/gittymarina/merogit/blob/master/python_chatbot.ipynb\" target=\"_parent\"><img src=\"https://colab.research.google.com/assets/colab-badge.svg\" alt=\"Open In Colab\"/></a>"
      ]
    },
    {
      "cell_type": "code",
      "source": [
        "!pip install flask-ngrok\n",
        "!ngrok authtoken'2c1oemJ6eq0tItEQQruUfnqycxp_35c7XihECDgDDMT3eBqRg'"
      ],
      "metadata": {
        "id": "BCN5ZGprVc_e"
      },
      "execution_count": null,
      "outputs": []
    },
    {
      "cell_type": "code",
      "execution_count": null,
      "metadata": {
        "id": "mFTLJppy5ZFj"
      },
      "outputs": [],
      "source": [
        "import nltk\n",
        "from nltk.chat.util import Chat, reflections\n",
        "\n",
        "nltk.download('punkt')\n",
        "\n",
        "pairs = [\n",
        "    [\n",
        "        r\"my name is (.*)\",\n",
        "        [\"Hello %1, how can I help you today?\",]\n",
        "    ],\n",
        "    [\n",
        "        r\"what is your name?\",\n",
        "        [\"I am a chatbot.\",]\n",
        "    ],\n",
        "    [\n",
        "        r\"how are you?\",\n",
        "        [\"I'm doing well, thank you!\", \"I'm fine, thanks for asking.\",]\n",
        "    ],\n",
        "    [\n",
        "        r\"(.*) (good|well|fine)\",\n",
        "        [\"That's great to hear!\", \"Awesome!\",]\n",
        "    ],\n",
        "    [\n",
        "        r\"quit\",\n",
        "        [\"Goodbye!\", \"Bye for now. Have a great day!\"]\n",
        "    ],\n",
        "    [\n",
        "        r\"(.*)\",\n",
        "        [\"I'm sorry, I didn't quite understand that. Can you please rephrase?\",]\n",
        "    ]\n",
        "]\n",
        "\n",
        "def chatbot():\n",
        "    print(\"Hi! I'm a simple chatbot. Type 'quit' to exit.\")\n",
        "    chat = Chat(pairs, reflections)\n",
        "    chat.converse()\n",
        "\n",
        "if __name__ == \"__main__\":\n",
        "    chatbot()\n"
      ]
    },
    {
      "cell_type": "code",
      "source": [
        "from flask import Flask\n",
        "from flask_ngrok import run_with_ngrok\n",
        "app = Flask(__name__)\n",
        "run_with_ngrok(app)\n",
        "\n",
        "@app.route(\"/\")\n",
        "def home():\n",
        "\treturn \"<h1>GFG is great platform to learn</h1>\"\n",
        "\n",
        "app.run()\n"
      ],
      "metadata": {
        "id": "SFxPUCqX6YEm"
      },
      "execution_count": null,
      "outputs": []
    }
  ]
}