{
  "nbformat": 4,
  "nbformat_minor": 0,
  "metadata": {
    "colab": {
      "private_outputs": true,
      "provenance": [],
      "authorship_tag": "ABX9TyMCcmLn0l73izP1oaKg0tqi",
      "include_colab_link": true
    },
    "kernelspec": {
      "name": "python3",
      "display_name": "Python 3"
    },
    "language_info": {
      "name": "python"
    }
  },
  "cells": [
    {
      "cell_type": "markdown",
      "metadata": {
        "id": "view-in-github",
        "colab_type": "text"
      },
      "source": [
        "<a href=\"https://colab.research.google.com/github/gittymarina/merogit/blob/master/TASK_2_DS.ipynb\" target=\"_parent\"><img src=\"https://colab.research.google.com/assets/colab-badge.svg\" alt=\"Open In Colab\"/></a>"
      ]
    },
    {
      "cell_type": "code",
      "execution_count": null,
      "metadata": {
        "id": "MQhjGJDkf-4P"
      },
      "outputs": [],
      "source": [
        "#loading our dataset\n",
        "import pandas as pd\n",
        "df=pd.read_csv(\"/content/train.csv\")\n",
        "df"
      ]
    },
    {
      "cell_type": "markdown",
      "source": [
        "INFORMATION OF OUR DATASET"
      ],
      "metadata": {
        "id": "Vhri-HNYqjlE"
      }
    },
    {
      "cell_type": "code",
      "source": [
        "df.info()"
      ],
      "metadata": {
        "id": "aCRH_r9QnAVn"
      },
      "execution_count": null,
      "outputs": []
    },
    {
      "cell_type": "markdown",
      "source": [
        "CHECKING FOR THE MISSING VALUES IN THE DATASET"
      ],
      "metadata": {
        "id": "N9CO2kSHqoDC"
      }
    },
    {
      "cell_type": "code",
      "source": [
        "df.isnull().sum()"
      ],
      "metadata": {
        "id": "OYcLXgIOmm10"
      },
      "execution_count": null,
      "outputs": []
    },
    {
      "cell_type": "markdown",
      "source": [
        "FILLING THE NULL VALUES IN THE DATASET"
      ],
      "metadata": {
        "id": "hpSRuE2gqx-s"
      }
    },
    {
      "cell_type": "code",
      "source": [
        "df['Age'].fillna(df['Age'].median(), inplace=True)\n",
        "df['Embarked'].fillna(method='bfill',inplace=True)"
      ],
      "metadata": {
        "id": "i6eTURjPwWLq"
      },
      "execution_count": null,
      "outputs": []
    },
    {
      "cell_type": "markdown",
      "source": [
        "AS WE HAVE MORE NULL VALUES IN THE CABIN COLUMN WE ARE DROPPING THAT COLUMN FOR OUR DATASET"
      ],
      "metadata": {
        "id": "gIz2LN-Qq3RD"
      }
    },
    {
      "cell_type": "code",
      "source": [
        "df.drop(columns=['Cabin'], inplace=True)\n"
      ],
      "metadata": {
        "id": "WQcbEMRWw3jG"
      },
      "execution_count": null,
      "outputs": []
    },
    {
      "cell_type": "markdown",
      "source": [
        "NOW THERE ARE NO NULL VALUES OUR DATASET IS CLEAN"
      ],
      "metadata": {
        "id": "o2Wtr2BhrCyG"
      }
    },
    {
      "cell_type": "code",
      "source": [
        "df.isnull().sum()"
      ],
      "metadata": {
        "id": "WzoqMd_spjU7"
      },
      "execution_count": null,
      "outputs": []
    },
    {
      "cell_type": "markdown",
      "source": [
        "HEATMAP"
      ],
      "metadata": {
        "id": "hO_zX_qtqd7X"
      }
    },
    {
      "cell_type": "code",
      "source": [
        "import seaborn as sns\n",
        "import matplotlib.pyplot as plt\n",
        "sns.heatmap(df.corr(),annot=True,cmap=\"viridis\")"
      ],
      "metadata": {
        "id": "nlMvIcV1xJQA"
      },
      "execution_count": null,
      "outputs": []
    },
    {
      "cell_type": "markdown",
      "source": [
        "**INTERPRETATION**\n",
        "\n",
        "IN THIS HEATMAP WE INFER THAT THERE IS NO SUCH STRONG CORRELATION AMONG THE NUMERICAL VARIABLES BUT THE FEATURE \"PCLASS\" AND \"FARE\" ARE MODERATLY NEGATIVELY CORRELATED WITH THE CORRELATION COEFFICIENT OF 0.55"
      ],
      "metadata": {
        "id": "8CeXrWV5rTo5"
      }
    },
    {
      "cell_type": "code",
      "source": [
        "df.corr()"
      ],
      "metadata": {
        "id": "LHNtFwndxcAF"
      },
      "execution_count": null,
      "outputs": []
    },
    {
      "cell_type": "markdown",
      "source": [
        "**PAIRPLOT**"
      ],
      "metadata": {
        "id": "l_BXh1A_ssK8"
      }
    },
    {
      "cell_type": "code",
      "source": [
        "#PAIRPLOT FOR CONTINOUS VARIABLE\n",
        "sns.pairplot(data=df,vars=[\"Survived\",\"Pclass\",\"SibSp\",\"Parch\",\"Fare\",\"Age\"])"
      ],
      "metadata": {
        "id": "QexC-TXt07OD"
      },
      "execution_count": null,
      "outputs": []
    },
    {
      "cell_type": "markdown",
      "source": [
        "IN THIS PAIRPLOT WE INFER THAT \"AGE\" ARE NORMALLY DISTRIBUTED AND \"PARCH\" AND \"FARE\" ARE RIGHT SKEWED"
      ],
      "metadata": {
        "id": "XsHMKrca1wdI"
      }
    },
    {
      "cell_type": "markdown",
      "source": [
        "**BAR PLOTS**"
      ],
      "metadata": {
        "id": "nyxr7jG52AjI"
      }
    },
    {
      "cell_type": "code",
      "source": [
        "sns.countplot(x=\"Pclass\",data=df,hue=\"Survived\")\n",
        "plt.title(\"SURVIVAL BY PASSENGER CLASS\")"
      ],
      "metadata": {
        "id": "5QqnbYS03k6O"
      },
      "execution_count": null,
      "outputs": []
    },
    {
      "cell_type": "markdown",
      "source": [
        "IN THIS PLOT WE UNDERSTAND THE FIRST CLASS PASSENGER HAS HIGH NUMBER OF SURVIVAL RATE"
      ],
      "metadata": {
        "id": "ZwCiHmu24cBj"
      }
    },
    {
      "cell_type": "code",
      "source": [
        "sns.countplot(x=\"Sex\",data=df,hue=\"Survived\")\n",
        "plt.title(\"SURVIVAL BY GENDER\")"
      ],
      "metadata": {
        "id": "rcnNYHmr38rM"
      },
      "execution_count": null,
      "outputs": []
    },
    {
      "cell_type": "markdown",
      "source": [
        "IN THIS PLOT WE UNDERSTAND FEMALE HAS THE HIGHEST SURVIVAL RATE"
      ],
      "metadata": {
        "id": "Kqc2uEKu4r-i"
      }
    },
    {
      "cell_type": "markdown",
      "source": [
        "**HIST PLOT**"
      ],
      "metadata": {
        "id": "QPgHnxSS41_L"
      }
    },
    {
      "cell_type": "code",
      "source": [
        "sns.histplot(data=df,x=\"Age\",hue=\"Survived\")\n",
        "plt.title('DISTRIBUTION OF AGE BY SURVIVAL')"
      ],
      "metadata": {
        "id": "5dnaqGox5KcA"
      },
      "execution_count": null,
      "outputs": []
    },
    {
      "cell_type": "markdown",
      "source": [
        "IN THIS WE INFER THAT CHILDREN AND OLDER PASSENGERS HAS A HIGHER RATE OF SURVIVAL"
      ],
      "metadata": {
        "id": "wtRitkcx6PB1"
      }
    },
    {
      "cell_type": "code",
      "source": [
        "sns.histplot(data=df,x=\"Fare\",hue=\"Survived\",kde=True)\n",
        "plt.title(\"DISTRIBUTION OF FARE BY SURVIVAL\")"
      ],
      "metadata": {
        "id": "buV9aSb95qTU"
      },
      "execution_count": null,
      "outputs": []
    },
    {
      "cell_type": "markdown",
      "source": [
        "IN THIS WE INFER THAT HIGHER THE FARE THE HIGHER RATE OF SURVIVAL"
      ],
      "metadata": {
        "id": "rFNhoRDK6Y3J"
      }
    }
  ]
}