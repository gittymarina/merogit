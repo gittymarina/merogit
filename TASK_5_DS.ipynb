{
  "nbformat": 4,
  "nbformat_minor": 0,
  "metadata": {
    "colab": {
      "private_outputs": true,
      "provenance": [],
      "authorship_tag": "ABX9TyMaWQl+MrjdCcmmvr9CDCI2",
      "include_colab_link": true
    },
    "kernelspec": {
      "name": "python3",
      "display_name": "Python 3"
    },
    "language_info": {
      "name": "python"
    }
  },
  "cells": [
    {
      "cell_type": "markdown",
      "metadata": {
        "id": "view-in-github",
        "colab_type": "text"
      },
      "source": [
        "<a href=\"https://colab.research.google.com/github/gittymarina/merogit/blob/master/TASK_5_DS.ipynb\" target=\"_parent\"><img src=\"https://colab.research.google.com/assets/colab-badge.svg\" alt=\"Open In Colab\"/></a>"
      ]
    },
    {
      "cell_type": "code",
      "execution_count": null,
      "metadata": {
        "id": "oEFK16mqCSk7"
      },
      "outputs": [],
      "source": [
        "#LOADING OUR DATASET\n",
        "import pandas as pd\n",
        "df=pd.read_csv(\"/content/RTA Dataset.csv\")\n",
        "df"
      ]
    },
    {
      "cell_type": "code",
      "source": [
        "#information about our dataset\n",
        "df.info()"
      ],
      "metadata": {
        "id": "iG0kTWQdFjAp"
      },
      "execution_count": null,
      "outputs": []
    },
    {
      "cell_type": "code",
      "source": [
        "#calculating the number of numerical and categorical columns\n",
        "df.dtypes.value_counts()"
      ],
      "metadata": {
        "id": "XQC6NGkFFyIp"
      },
      "execution_count": null,
      "outputs": []
    },
    {
      "cell_type": "code",
      "source": [
        "#understanding the null values in the dataset\n",
        "df.isnull().sum()"
      ],
      "metadata": {
        "id": "Eysm2_1PGA7z"
      },
      "execution_count": null,
      "outputs": []
    },
    {
      "cell_type": "code",
      "source": [
        "#description of our dataset\n",
        "df.describe()\n"
      ],
      "metadata": {
        "id": "KTnqEnSfGOkR"
      },
      "execution_count": null,
      "outputs": []
    },
    {
      "cell_type": "markdown",
      "source": [
        "**EDA & VISUALISATION**"
      ],
      "metadata": {
        "id": "C_1ylPqPGpsC"
      }
    },
    {
      "cell_type": "code",
      "source": [
        "import seaborn as sns\n",
        "import matplotlib.pyplot as plt\n",
        "sns.countplot(data=df,x=\"Accident_severity\")"
      ],
      "metadata": {
        "id": "6gxwP2klGX-p"
      },
      "execution_count": null,
      "outputs": []
    },
    {
      "cell_type": "markdown",
      "source": [
        "MORE ACCIDENTS ARE IN SLIGHT INJURY LEVEL IN OUR DATASET"
      ],
      "metadata": {
        "id": "vi7UTtoWHEV_"
      }
    },
    {
      "cell_type": "code",
      "source": [
        "crosstab=pd.crosstab(df[\"Time\"],df[\"Cause_of_accident\"])\n",
        "crosstab"
      ],
      "metadata": {
        "id": "uSdfCglsHBwo"
      },
      "execution_count": null,
      "outputs": []
    },
    {
      "cell_type": "markdown",
      "source": [
        "COMPARING OUR DATA WITH VARIOUS TIME ZONES AND CAUSE OF ACCIDENTS"
      ],
      "metadata": {
        "id": "8Z-_XhlzH6rt"
      }
    },
    {
      "cell_type": "code",
      "source": [
        "#PLOTTING THE COUNT OF WORK OF CASUALTY\n",
        "plt.figure(figsize=(10,8))\n",
        "sns.countplot(data=df,x=\"Work_of_casuality\")"
      ],
      "metadata": {
        "id": "4Yr57tf_IEa0"
      },
      "execution_count": null,
      "outputs": []
    },
    {
      "cell_type": "markdown",
      "source": [
        "THE CASUALTY PEOPLE ARE MORE OF DOING THE WORK AS DRIVER"
      ],
      "metadata": {
        "id": "Ew9QsxkbLo00"
      }
    },
    {
      "cell_type": "code",
      "source": [
        "plt.figure(figsize=(20,9))\n",
        "sns.barplot(x=\"Type_of_vehicle\",y=\"Number_of_casualties\",data=df,palette=\"viridis\")\n",
        "plt.xlabel(\"Type_of_vehicle\")\n",
        "plt.ylabel(\"Number_of_casualties\")\n",
        "plt.title(\"NO OF CASUALITIES BASED ON TYPE OF VEHICLE\")"
      ],
      "metadata": {
        "id": "kt8KqpsiJ6Ny"
      },
      "execution_count": null,
      "outputs": []
    },
    {
      "cell_type": "markdown",
      "source": [
        "THE NUMBER OF CASUALITIES ARE HIGH IN RIDING THE HORSE"
      ],
      "metadata": {
        "id": "t1xvf3-iLf-_"
      }
    },
    {
      "cell_type": "markdown",
      "source": [
        "**WEEKLY ACCIDENT ANALYSIS**"
      ],
      "metadata": {
        "id": "_tQ3eEeQZDSg"
      }
    },
    {
      "cell_type": "code",
      "source": [
        "plt.figure(figsize=(10,8))\n",
        "sns.countplot(data=df,x=\"Day_of_week\")\n",
        "plt.xlabel(\"Day\")\n",
        "plt.ylabel(\"count\")\n",
        "plt.title(\"NUMBER OF ACCIDENTS PER DAY IN WEEK\")\n",
        "plt.show()"
      ],
      "metadata": {
        "id": "ZEfc65BvbQ6Q"
      },
      "execution_count": null,
      "outputs": []
    },
    {
      "cell_type": "markdown",
      "source": [
        "NUMBER OF ACCIDENTS ARE MORE ON FRIDAY"
      ],
      "metadata": {
        "id": "9hc0Z59Ib8Nt"
      }
    },
    {
      "cell_type": "markdown",
      "source": [
        "CONVERTING OUR TIME TO HOUR AND MINUTE AND SECOND"
      ],
      "metadata": {
        "id": "K4_mbXQmhpiu"
      }
    },
    {
      "cell_type": "code",
      "source": [
        "df['Time'] = pd.to_datetime(\n",
        "    df['Time'],\n",
        "    format=\"%H:%M:%S\",\n",
        "    errors='coerce'\n",
        ")"
      ],
      "metadata": {
        "id": "NrY_iZyFhPF4"
      },
      "execution_count": null,
      "outputs": []
    },
    {
      "cell_type": "markdown",
      "source": [
        "**ANALYSING BY TIME**"
      ],
      "metadata": {
        "id": "qJQrlRICcaGN"
      }
    },
    {
      "cell_type": "code",
      "source": [
        "df[\"hour\"]=df[\"Time\"].dt.hour\n",
        "plt.figure(figsize=(10,6))\n",
        "sns.countplot(data=df,x=\"hour\",hue=\"Accident_severity\",palette=\"gnuplot\")\n",
        "plt.title(\"ACCIDENTS BY HOUR AND SEVERITY\")\n",
        "plt.xlabel('HOUR OF THE DAY')\n",
        "plt.ylabel(\"NUMBER OF ACCIDENTS\")\n",
        "plt.show()"
      ],
      "metadata": {
        "id": "Xh7lHouLceK2"
      },
      "execution_count": null,
      "outputs": []
    },
    {
      "cell_type": "markdown",
      "source": [
        "THE NUMBER OF ACCIDENTS ARE MORE IN 17TH HOUR"
      ],
      "metadata": {
        "id": "TCGCGXsDh5Gw"
      }
    },
    {
      "cell_type": "code",
      "source": [
        "df[\"Weather_conditions\"].value_counts()"
      ],
      "metadata": {
        "id": "5vIwU7CBiH_m"
      },
      "execution_count": null,
      "outputs": []
    },
    {
      "cell_type": "markdown",
      "source": [
        "**ANALYSING ACCIDENTS WITH WEATHER**"
      ],
      "metadata": {
        "id": "ksX9e4C-ihbc"
      }
    },
    {
      "cell_type": "code",
      "source": [
        "plt.figure(figsize=(20,10))\n",
        "sns.countplot(data=df,x=\"Weather_conditions\",hue=\"Accident_severity\",palette=\"gnuplot\")\n",
        "plt.title(\"ACCIDENTS BY WEATHER CONDITIONS AND SEVERITY\")\n",
        "plt.xlabel('WEATHER CONDITIONS')\n",
        "plt.ylabel(\"NUMBER OF ACCIDENTS\")\n",
        "plt.show()"
      ],
      "metadata": {
        "id": "2S1MZcY9iY3g"
      },
      "execution_count": null,
      "outputs": []
    },
    {
      "cell_type": "markdown",
      "source": [
        "MOST OF ACCIDENTS HAS BEEN OCCURED WHEN OUR WEATHER CONDITION ARE NORMAL AND WHEN OUR WEATHER CONDITIONS ARE RAINING"
      ],
      "metadata": {
        "id": "BGsx-jEMjpil"
      }
    },
    {
      "cell_type": "markdown",
      "source": [
        "**ANALYSING THE AREA OF ACCIDENT OCCURED AND SEVERITY OF ACCIDENT**"
      ],
      "metadata": {
        "id": "9fW79S-jktpi"
      }
    },
    {
      "cell_type": "code",
      "source": [
        "plt.figure(figsize=(20,10))\n",
        "sns.countplot(data=df,x=\"Area_accident_occured\",hue=\"Accident_severity\",palette='viridis')\n",
        "plt.xlabel(\"area\")\n",
        "plt.ylabel(\"severity\")\n",
        "plt.title(\"SEVERITY BASED ON AREA OF ACCIDENT\")\n",
        "\n"
      ],
      "metadata": {
        "id": "4pXo1uzUj8ht"
      },
      "execution_count": null,
      "outputs": []
    },
    {
      "cell_type": "markdown",
      "source": [
        "MORE ACCIDENT AREAS ARE HAPPENING AT OFFICE AND RECREATIONAL AREAS AND RESIDENTAL AREAS"
      ],
      "metadata": {
        "id": "cAfwoNyhlU8Q"
      }
    },
    {
      "cell_type": "markdown",
      "source": [
        "**ANALSING THE SEVERITY OF ACCIDENT FOR MALE AND FEMALE**"
      ],
      "metadata": {
        "id": "F0rTCeM8lxwA"
      }
    },
    {
      "cell_type": "code",
      "source": [
        "plt.figure(figsize=(20,10))\n",
        "sns.countplot(data=df,x=\"Sex_of_casualty\",hue=\"Accident_severity\",palette='viridis')\n",
        "plt.xlabel(\"GENDER\")\n",
        "plt.ylabel(\"SEVERITY\")\n",
        "plt.title(\"SEVERITY BASED ON MALE AND FEMALE\")\n"
      ],
      "metadata": {
        "id": "v8zgdsHAl8i1"
      },
      "execution_count": null,
      "outputs": []
    },
    {
      "cell_type": "markdown",
      "source": [
        "MORE ACCIDENT SEVERITY ARE CAUSED TO MALE AND UNKNOWN"
      ],
      "metadata": {
        "id": "7KhlVFE4mXPO"
      }
    },
    {
      "cell_type": "markdown",
      "source": [
        "**ANALSING ACCIDENT SEVERITY BASED ON DRIVING EXPERIENCE**"
      ],
      "metadata": {
        "id": "FphOGBLlmp-f"
      }
    },
    {
      "cell_type": "code",
      "source": [
        "plt.figure(figsize=(20,10))\n",
        "sns.countplot(data=df,x=\"Driving_experience\",hue=\"Accident_severity\",palette='viridis')\n",
        "plt.xlabel(\"DRIVING EXPERIENCE\")\n",
        "plt.ylabel(\"SEVERITY\")\n",
        "plt.title(\"SEVERITY BASED ON DRIVING EXPERIENCE\")"
      ],
      "metadata": {
        "id": "dFgq-SXCmozv"
      },
      "execution_count": null,
      "outputs": []
    },
    {
      "cell_type": "markdown",
      "source": [
        "5-10 YEARS EXPERIENCED PEOPLE HAS CAUSED MORE ACCIDENTS"
      ],
      "metadata": {
        "id": "_Jh0OmOfnGTm"
      }
    },
    {
      "cell_type": "code",
      "source": [
        "df[\"Road_surface_conditions\"].unique()"
      ],
      "metadata": {
        "id": "8AHF0Sg3nYmV"
      },
      "execution_count": null,
      "outputs": []
    },
    {
      "cell_type": "markdown",
      "source": [
        "**NUMBER OF ACCIDENTS BASED ON ROAD CONDITIONS**"
      ],
      "metadata": {
        "id": "EjNDEZLBnw6u"
      }
    },
    {
      "cell_type": "code",
      "source": [
        "plt.figure(figsize=(10,8))\n",
        "sns.countplot(data=df,x=\"Road_surface_conditions\")\n",
        "plt.xlabel(\"ROAD ACCIDENTS\")\n",
        "plt.ylabel(\"COUNT\")\n",
        "plt.title(\"NUMBER OF ACCIDENTS PER DAY IN WEEK\")\n",
        "plt.show()"
      ],
      "metadata": {
        "id": "6vSfW_SVngIX"
      },
      "execution_count": null,
      "outputs": []
    },
    {
      "cell_type": "markdown",
      "source": [
        "MOST OF THE ACCIDENTS HAS BEEN OCCURED IN WET ROAD"
      ],
      "metadata": {
        "id": "RmPBleLbn7FC"
      }
    }
  ]
}