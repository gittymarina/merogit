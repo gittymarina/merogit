{
  "nbformat": 4,
  "nbformat_minor": 0,
  "metadata": {
    "colab": {
      "private_outputs": true,
      "provenance": [],
      "authorship_tag": "ABX9TyM4kQ8TQAO0VvBAeVqLw34n",
      "include_colab_link": true
    },
    "kernelspec": {
      "name": "python3",
      "display_name": "Python 3"
    },
    "language_info": {
      "name": "python"
    }
  },
  "cells": [
    {
      "cell_type": "markdown",
      "metadata": {
        "id": "view-in-github",
        "colab_type": "text"
      },
      "source": [
        "<a href=\"https://colab.research.google.com/github/gittymarina/merogit/blob/master/WEBSCRAPING_FROM_AMAZON_WEBSITE.ipynb\" target=\"_parent\"><img src=\"https://colab.research.google.com/assets/colab-badge.svg\" alt=\"Open In Colab\"/></a>"
      ]
    },
    {
      "cell_type": "markdown",
      "source": [
        "with python,\n",
        "read file Amazon.html and parse it with BeautifulSoup\n",
        "\n",
        "\n",
        "\n",
        "find all\n",
        "div class=\"\"puis-card-container s-card-container s-overflow-hidden aok-relative puis-expand-height puis-include-content-margin puis puis-v1k579acibq3g12dxe3xrr3x1qq s-latency-cf-section puis-card-border\"\"\n",
        "for all the divs\n",
        "\n",
        "try find span with class=\"a-size-base-plus a-color-base a-text-normal\" and store it to product_name\n",
        "except product_name = \" \"\n",
        "try find span with class=\"a-price-whole\" and store it to product_price\n",
        "except product_price = \" \"\n",
        "try find span with class=\"a-size-base s-underline-text\" and store it to product_reviews\n",
        "except product_reviews = \" \"\n",
        "\n",
        "open an excel file and write product_name,product_price,product_reviews"
      ],
      "metadata": {
        "id": "E5RzDAVT-4jv"
      }
    },
    {
      "cell_type": "code",
      "source": [
        "!pip install bs4"
      ],
      "metadata": {
        "id": "N91TJxE3HqWy"
      },
      "execution_count": null,
      "outputs": []
    },
    {
      "cell_type": "code",
      "source": [
        "import openpyxl\n",
        "from bs4 import BeautifulSoup\n",
        "\n",
        "# Read the HTML file\n",
        "with open('Amazon.html', 'r', encoding='utf-8') as file:\n",
        "    html_content = file.read()\n",
        "\n",
        "# Parse the HTML content using BeautifulSoup\n",
        "soup = BeautifulSoup(html_content, 'html.parser')\n",
        "\n",
        "# Create a new Excel workbook and add a worksheet\n",
        "workbook = openpyxl.Workbook()\n",
        "worksheet = workbook.active\n",
        "\n",
        "# Define the header row\n",
        "header = ['Product Name', 'Product Price', 'Product Reviews']\n",
        "worksheet.append(header)\n",
        "\n",
        "# Find all div elements with the specified class\n",
        "divs = soup.find_all('div', class_='puis-card-container s-card-container s-overflow-hidden aok-relative puis-expand-height puis-include-content-margin puis puis-v1k579acibq3g12dxe3xrr3x1qq s-latency-cf-section puis-card-border')\n",
        "\n",
        "# Iterate through each div and extract the desired information\n",
        "for div in divs:\n",
        "    product_name_element = div.find('span', class_='a-size-base-plus a-color-base a-text-normal')\n",
        "    product_name = product_name_element.text.strip() if product_name_element else ' '\n",
        "\n",
        "    product_price_element = div.find('span', class_='a-price-whole')\n",
        "    product_price = product_price_element.text.strip() if product_price_element else ' '\n",
        "\n",
        "    product_reviews_element = div.find('span', class_='a-size-base s-underline-text')\n",
        "    product_reviews = product_reviews_element.text.strip() if product_reviews_element else ' '\n",
        "\n",
        "    # Add the extracted data to the Excel worksheet\n",
        "    worksheet.append([product_name, product_price, product_reviews])\n",
        "\n",
        "# Save the Excel file\n",
        "workbook.save('Amazon_Products.xlsx')\n"
      ],
      "metadata": {
        "id": "SD2r3puPU2WC"
      },
      "execution_count": null,
      "outputs": []
    },
    {
      "cell_type": "code",
      "source": [
        "import pandas as pd\n",
        "df=pd.read_excel(\"/content/Amazon_Products.xlsx\")\n",
        "df"
      ],
      "metadata": {
        "id": "TQWYs9MKWUWn"
      },
      "execution_count": null,
      "outputs": []
    }
  ]
}