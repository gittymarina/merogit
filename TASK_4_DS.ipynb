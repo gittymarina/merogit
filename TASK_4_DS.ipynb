{
  "nbformat": 4,
  "nbformat_minor": 0,
  "metadata": {
    "colab": {
      "private_outputs": true,
      "provenance": [],
      "authorship_tag": "ABX9TyOmYgVNGzskxm8AfGj8izPs",
      "include_colab_link": true
    },
    "kernelspec": {
      "name": "python3",
      "display_name": "Python 3"
    },
    "language_info": {
      "name": "python"
    }
  },
  "cells": [
    {
      "cell_type": "markdown",
      "metadata": {
        "id": "view-in-github",
        "colab_type": "text"
      },
      "source": [
        "<a href=\"https://colab.research.google.com/github/gittymarina/merogit/blob/master/TASK_4_DS.ipynb\" target=\"_parent\"><img src=\"https://colab.research.google.com/assets/colab-badge.svg\" alt=\"Open In Colab\"/></a>"
      ]
    },
    {
      "cell_type": "code",
      "execution_count": null,
      "metadata": {
        "id": "Y_MRx6uOjCCW"
      },
      "outputs": [],
      "source": [
        "#LOADING OUR DATASET\n",
        "import pandas as pd\n",
        "df=pd.read_csv(\"twitter_training.csv\")\n",
        "df"
      ]
    },
    {
      "cell_type": "markdown",
      "source": [
        "PERFORMING EXPLORATORY DATA ANALYSIS IN OUR DATASET"
      ],
      "metadata": {
        "id": "7W_PU07mjYXc"
      }
    },
    {
      "cell_type": "code",
      "source": [
        "#FINDING NULL VALUES\n",
        "df.isnull().sum()"
      ],
      "metadata": {
        "id": "mZxrL-PljWu6"
      },
      "execution_count": null,
      "outputs": []
    },
    {
      "cell_type": "code",
      "source": [
        "#dropping our null values\n",
        "df=df.dropna()\n"
      ],
      "metadata": {
        "id": "MmSW-_gOn5nK"
      },
      "execution_count": null,
      "outputs": []
    },
    {
      "cell_type": "code",
      "source": [
        "#dropping our duplicates in our dataset\n",
        "df.drop_duplicates"
      ],
      "metadata": {
        "id": "Ylk51eYboDos"
      },
      "execution_count": null,
      "outputs": []
    },
    {
      "cell_type": "code",
      "source": [
        "#information of our dataset\n",
        "df.info()"
      ],
      "metadata": {
        "id": "Zq3WzOPKoU5v"
      },
      "execution_count": null,
      "outputs": []
    },
    {
      "cell_type": "code",
      "source": [
        "#changing our column names\n",
        "df.columns=[\"ID\",\"GAME\",\"SENTIMENT\",\"COMMENTS\"]\n",
        "df"
      ],
      "metadata": {
        "id": "FjVVxMYzodIf"
      },
      "execution_count": null,
      "outputs": []
    },
    {
      "cell_type": "code",
      "source": [
        "#PLOTTING AND ANALYSING OUR SENTIMENTAL ANALYSIS\n",
        "import matplotlib.pyplot as plt\n",
        "plt.figure(figsize=(22,6))\n",
        "plt.suptitle(\"DISTRIBUTION OF TARGET CLASS\")\n",
        "label_count=df[\"SENTIMENT\"].value_counts().values\n",
        "explode=(0.2,0.3,0.6,0.7)\n",
        "labels=[\"positive\",\"neutral\",\"Negative\",\"irrelavant\"]\n",
        "plt.pie(x=label_count,labels=labels,autopct='%1.1f%%',shadow=True)\n",
        "plt.show()"
      ],
      "metadata": {
        "id": "6yJh_PnAo3lc"
      },
      "execution_count": null,
      "outputs": []
    },
    {
      "cell_type": "markdown",
      "source": [
        "INFERENCE\n",
        "\n",
        "\n",
        "*   THE SENTIMENTAL ANALYSIS FOR POSITIVE COMMENTS ARE THE HIGHEST (30.3%)\n",
        "*  THE SENTIMENTAL ANALYSIS FOR NEUTRAL COMMENTS IS 27.5%\n",
        "*   THE SENTIMENTAL ANALYSIS FOR NEGATIVE COMMENTS IS 24.7%\n",
        "*   THE SENTIMENTAL ANALYSIS FOR IRRELAVANT COMMENTS IS 17.5%\n",
        "\n",
        "\n",
        "\n"
      ],
      "metadata": {
        "id": "hxKUBV8qr_Ja"
      }
    },
    {
      "cell_type": "code",
      "source": [
        "df[\"SENTIMENT\"].unique()"
      ],
      "metadata": {
        "id": "2Ls3qQWO0BBw"
      },
      "execution_count": null,
      "outputs": []
    },
    {
      "cell_type": "code",
      "source": [
        "#ploting our count for sentimental using game\n",
        "import seaborn as sns\n",
        "sentiments=[\"Positive\",\"Negative\",\"Neutral\",\"Irrelevant\"]\n",
        "for i,sentiment in enumerate(sentiments,1):\n",
        "  plt.figure(figsize=(22,22))\n",
        "  plt.subplot(2,2,i)\n",
        "  sns.countplot(x=\"GAME\",data=df[df[\"SENTIMENT\"]== sentiment],\n",
        "                order=df[df[\"SENTIMENT\"]==sentiment][\"GAME\"].value_counts().index)\n",
        "  plt.title(f'{sentiment} sentiments')\n",
        "  plt.xticks(rotation=90)\n",
        "plt.show()"
      ],
      "metadata": {
        "id": "suopWi9cvTaz"
      },
      "execution_count": null,
      "outputs": []
    },
    {
      "cell_type": "markdown",
      "source": [
        "IN THIS PLOT WE UNDERSTAND THAT THE NEGATIVE SENTIMENTS ARE MORE FOR GAMES IT HAS A COUNT 1600 AND MORE FOR MADDENNFL"
      ],
      "metadata": {
        "id": "zjo7pUWQN2Y0"
      }
    },
    {
      "cell_type": "code",
      "source": [
        "plt.figure(figsize=(12,8))\n",
        "sns.countplot(x=\"GAME\",data=df,order=df[\"GAME\"].value_counts().index,palette=\"viridis\")\n",
        "plt.title(\"distribution of games\")\n",
        "plt.xlabel(\"Game\")\n",
        "plt.ylabel(\"count\")\n",
        "plt.xticks(rotation=90)\n",
        "plt.show()\n"
      ],
      "metadata": {
        "id": "dCPIGzw_OUZC"
      },
      "execution_count": null,
      "outputs": []
    },
    {
      "cell_type": "code",
      "source": [
        "df[\"num_of_characters\"]=df[\"COMMENTS\"].apply(len)\n",
        "df"
      ],
      "metadata": {
        "id": "kvu85xkFT8Tv"
      },
      "execution_count": null,
      "outputs": []
    },
    {
      "cell_type": "code",
      "source": [
        "import nltk\n",
        "nltk.download('punkt')\n"
      ],
      "metadata": {
        "id": "1F4_nO2CVQ7d"
      },
      "execution_count": null,
      "outputs": []
    },
    {
      "cell_type": "code",
      "source": [
        "\n",
        "df[\"no_of_words\"]=df[\"COMMENTS\"].apply(lambda x:len(nltk.word_tokenize(x)))\n",
        "df"
      ],
      "metadata": {
        "id": "l4AEAnKYUhpP"
      },
      "execution_count": null,
      "outputs": []
    },
    {
      "cell_type": "code",
      "source": [
        "df[\"no_of_sentence\"]=df[\"COMMENTS\"].apply(lambda x:len(nltk.sent_tokenize(x)))\n",
        "df"
      ],
      "metadata": {
        "id": "3EiGWFwVVxyH"
      },
      "execution_count": null,
      "outputs": []
    },
    {
      "cell_type": "code",
      "source": [
        "sns.set_palette(\"viridis\")\n",
        "corr_matrix=df.corr()\n",
        "plt.figure(figsize=(10,6))\n",
        "sns.heatmap(corr_matrix,annot=True,cmap=\"viridis\")\n",
        "plt.title(\"CORRELATION HEATMAP\")"
      ],
      "metadata": {
        "id": "mXhuSnoJP37b"
      },
      "execution_count": null,
      "outputs": []
    },
    {
      "cell_type": "markdown",
      "source": [
        "IN THIS HEATMAP THERE IS NO CORRELATION"
      ],
      "metadata": {
        "id": "lxTLtQDrWdwF"
      }
    },
    {
      "cell_type": "code",
      "source": [
        "df.describe()"
      ],
      "metadata": {
        "id": "7uHS0MaOWi5V"
      },
      "execution_count": null,
      "outputs": []
    },
    {
      "cell_type": "code",
      "source": [
        "from sklearn.preprocessing import LabelEncoder\n",
        "label_encoder=LabelEncoder()\n",
        "df[\"Sentiments_encoded\"]=label_encoder.fit_transform(df[\"SENTIMENT\"])\n",
        "df"
      ],
      "metadata": {
        "id": "x0Df8n-fZObp"
      },
      "execution_count": null,
      "outputs": []
    },
    {
      "cell_type": "code",
      "source": [
        "df.drop(['SENTIMENT'],axis=1,inplace=True)"
      ],
      "metadata": {
        "id": "VdSaod0Scpp_"
      },
      "execution_count": null,
      "outputs": []
    },
    {
      "cell_type": "code",
      "source": [
        "pos=[]\n",
        "for msg in df[df['Sentiments_encoded']==3]['COMMENTS'].tolist():\n",
        "  for words in msg.split():\n",
        "    pos.append(words)\n"
      ],
      "metadata": {
        "id": "ztucz0F0YXSd"
      },
      "execution_count": null,
      "outputs": []
    },
    {
      "cell_type": "code",
      "source": [
        "from collections import Counter\n",
        "Counter(pos).most_common(10)"
      ],
      "metadata": {
        "id": "DJtV8loWdrgn"
      },
      "execution_count": null,
      "outputs": []
    },
    {
      "cell_type": "code",
      "source": [
        "frequency=Counter(pos).most_common(10)\n",
        "freq_dt=pd.DataFrame(frequency,columns=[\"words\",\"Frequency\"])\n",
        "\n",
        "plt.figure(figsize=(12,8))\n",
        "sns.barplot(x=\"Frequency\",y=\"words\",data=freq_dt,palette=\"viridis\")\n",
        "plt.xlabel(\"Frequency\")\n",
        "plt.ylabel(\"word\")\n",
        "plt.title(\"TOP 10 MOST COMMON WORDS IN POSITIVE\")"
      ],
      "metadata": {
        "id": "JDYPO_TReAEW"
      },
      "execution_count": null,
      "outputs": []
    },
    {
      "cell_type": "code",
      "source": [
        "neu=[]\n",
        "for msg in df[df['Sentiments_encoded']==2]['COMMENTS'].tolist():\n",
        "  for words in msg.split():\n",
        "    neu.append(words)\n"
      ],
      "metadata": {
        "id": "1d7PMES1fISo"
      },
      "execution_count": null,
      "outputs": []
    },
    {
      "cell_type": "code",
      "source": [
        "Counter(neu).most_common(10)\n",
        "frequency=Counter(neu).most_common(10)\n",
        "freq_dt=pd.DataFrame(frequency,columns=[\"words\",\"Frequency\"])\n",
        "\n",
        "plt.figure(figsize=(12,8))\n",
        "sns.barplot(x=\"Frequency\",y=\"words\",data=freq_dt,palette=\"viridis\")\n",
        "plt.xlabel(\"Frequency\")\n",
        "plt.ylabel(\"word\")\n",
        "plt.title(\"TOP 10 MOST COMMON WORDS IN NEUTRAL\")"
      ],
      "metadata": {
        "id": "qM7vLj2bh0Ui"
      },
      "execution_count": null,
      "outputs": []
    },
    {
      "cell_type": "code",
      "source": [
        "neg=[]\n",
        "for msg in df[df['Sentiments_encoded']==1]['COMMENTS'].tolist():\n",
        "  for words in msg.split():\n",
        "    neg.append(words)"
      ],
      "metadata": {
        "id": "3fX0p4aViFfW"
      },
      "execution_count": null,
      "outputs": []
    },
    {
      "cell_type": "code",
      "source": [
        "Counter(neg).most_common(10)\n",
        "frequency=Counter(neg).most_common(10)\n",
        "freq_dt=pd.DataFrame(frequency,columns=[\"words\",\"Frequency\"])\n",
        "\n",
        "plt.figure(figsize=(12,8))\n",
        "sns.barplot(x=\"Frequency\",y=\"words\",data=freq_dt,palette=\"viridis\")\n",
        "plt.xlabel(\"Frequency\")\n",
        "plt.ylabel(\"word\")\n",
        "plt.title(\"TOP 10 MOST COMMON WORDS IN NEGATIVE\")"
      ],
      "metadata": {
        "id": "O4WNznyGiSnD"
      },
      "execution_count": null,
      "outputs": []
    },
    {
      "cell_type": "code",
      "source": [
        "irr=[]\n",
        "for msg in df[df['Sentiments_encoded']==0]['COMMENTS'].tolist():\n",
        "  for words in msg.split():\n",
        "    irr.append(words)"
      ],
      "metadata": {
        "id": "OQSBYCwLk5vf"
      },
      "execution_count": null,
      "outputs": []
    },
    {
      "cell_type": "code",
      "source": [
        "Counter(irr).most_common(10)\n",
        "frequency=Counter(irr).most_common(10)\n",
        "freq_dt=pd.DataFrame(frequency,columns=[\"words\",\"Frequency\"])\n",
        "\n",
        "plt.figure(figsize=(12,8))\n",
        "sns.barplot(x=\"Frequency\",y=\"words\",data=freq_dt,palette=\"viridis\")\n",
        "plt.xlabel(\"Frequency\")\n",
        "plt.ylabel(\"word\")\n",
        "plt.title(\"TOP 10 MOST COMMON WORDS IN IRRELAVANT\")"
      ],
      "metadata": {
        "id": "SOp0DmGYlC9C"
      },
      "execution_count": null,
      "outputs": []
    }
  ]
}