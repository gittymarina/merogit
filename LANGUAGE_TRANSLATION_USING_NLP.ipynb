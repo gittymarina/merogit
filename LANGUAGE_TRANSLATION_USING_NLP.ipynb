{
  "nbformat": 4,
  "nbformat_minor": 0,
  "metadata": {
    "colab": {
      "private_outputs": true,
      "provenance": [],
      "authorship_tag": "ABX9TyOwJPM0H3YuVl2eHzKYlMb8",
      "include_colab_link": true
    },
    "kernelspec": {
      "name": "python3",
      "display_name": "Python 3"
    },
    "language_info": {
      "name": "python"
    }
  },
  "cells": [
    {
      "cell_type": "markdown",
      "metadata": {
        "id": "view-in-github",
        "colab_type": "text"
      },
      "source": [
        "<a href=\"https://colab.research.google.com/github/gittymarina/merogit/blob/master/LANGUAGE_TRANSLATION_USING_NLP.ipynb\" target=\"_parent\"><img src=\"https://colab.research.google.com/assets/colab-badge.svg\" alt=\"Open In Colab\"/></a>"
      ]
    },
    {
      "cell_type": "markdown",
      "source": [
        "LOADING OUR DATASET"
      ],
      "metadata": {
        "id": "vCaZtcbrfZRd"
      }
    },
    {
      "cell_type": "code",
      "source": [
        "import pandas as pd\n",
        "df=pd.read_csv(\"eng_-french.csv\")\n",
        "df"
      ],
      "metadata": {
        "id": "ljCFp6lefe6M"
      },
      "execution_count": null,
      "outputs": []
    },
    {
      "cell_type": "code",
      "source": [
        "df.head()"
      ],
      "metadata": {
        "id": "sbz3bqdmfjWQ"
      },
      "execution_count": null,
      "outputs": []
    },
    {
      "cell_type": "markdown",
      "source": [
        "DATA PRE-PROCESSING"
      ],
      "metadata": {
        "id": "W_aScrOIfp0l"
      }
    },
    {
      "cell_type": "code",
      "source": [
        "import re\n",
        "import string\n",
        "from unicodedata import normalize"
      ],
      "metadata": {
        "id": "YudoR-Ygfubr"
      },
      "execution_count": null,
      "outputs": []
    },
    {
      "cell_type": "code",
      "source": [
        "def preprocess_text(text):\n",
        "    # normalize unicode characters\n",
        "    text = normalize('NFD',text).encode(\"ascii\",\"ignore\")\n",
        "    text = text.decode(\"UTF-8\")\n",
        "    # convert to string\n",
        "    text = str(text)\n",
        "    # convert to lowercase\n",
        "    text = text.lower()\n",
        "    # remove punctuation\n",
        "    text = text.translate(str.maketrans('','',string.punctuation))\n",
        "    # remove non-printable chars from text\n",
        "    re_print = re.compile('[^%s]'% re.escape(string.printable))\n",
        "    text = re_print.sub('',text)\n",
        "    # remove numbers\n",
        "    text = re.sub(r'[\\d]+','',text)\n",
        "    # remove multiple spaces\n",
        "    text = ' '.join(text.split())\n",
        "    return text\n"
      ],
      "metadata": {
        "id": "n83UTFcrfy9e"
      },
      "execution_count": null,
      "outputs": []
    },
    {
      "cell_type": "markdown",
      "source": [
        "CHECKING OUR DATASET AFTER PRE-PROCESSING THE STRING FROM THE TEXT"
      ],
      "metadata": {
        "id": "fbn2jKhvf-kA"
      }
    },
    {
      "cell_type": "code",
      "source": [
        "df_copy = df.copy()\n",
        "df_copy['English words/sentences'] = df_copy.loc[:,'English words/sentences'].apply(\n",
        "    lambda x:preprocess_text(x))\n",
        "df_copy['French words/sentences'] = df_copy.loc[:,'French words/sentences'].apply(\n",
        "    lambda x:preprocess_text(x))\n",
        "df_copy.head()"
      ],
      "metadata": {
        "id": "zN7Q19r-gAEG"
      },
      "execution_count": null,
      "outputs": []
    },
    {
      "cell_type": "markdown",
      "source": [
        "TOKENISING OUR DATA"
      ],
      "metadata": {
        "id": "xejwwx3MgT_s"
      }
    },
    {
      "cell_type": "code",
      "source": [
        "!pip install tensorflow"
      ],
      "metadata": {
        "id": "PnJVRYiHgX6p"
      },
      "execution_count": null,
      "outputs": []
    },
    {
      "cell_type": "code",
      "source": [
        "from keras.preprocessing.text import Tokenizer\n",
        "from tensorflow.keras.preprocessing.sequence import pad_sequences"
      ],
      "metadata": {
        "id": "_j4fQXAvgjRf"
      },
      "execution_count": null,
      "outputs": []
    },
    {
      "cell_type": "code",
      "source": [
        "def tokenize(text):\n",
        "    tokenizer = Tokenizer()\n",
        "    tokenizer.fit_on_texts(text)\n",
        "    return tokenizer"
      ],
      "metadata": {
        "id": "ArVuO3E1gkL1"
      },
      "execution_count": null,
      "outputs": []
    },
    {
      "cell_type": "code",
      "source": [
        "# English tokenizer\n",
        "\n",
        "eng_tokenizer = tokenize(df_copy['English words/sentences'])\n",
        "eng_vocab_size = len(eng_tokenizer.word_index) + 1\n",
        "\n",
        "# French tokenizer\n",
        "fr_tokenizer = tokenize(df_copy['French words/sentences'])\n",
        "fr_vocab_size = len(fr_tokenizer.word_index) + 1\n",
        "\n",
        "# Sequences\n",
        "seq_eng = eng_tokenizer.texts_to_sequences(df_copy['English words/sentences'])\n",
        "seq_fr = fr_tokenizer.texts_to_sequences(df_copy['French words/sentences'])\n",
        "\n",
        "# Padding\n",
        "max_length = max([len(seq) for seq in seq_eng + seq_fr])\n",
        "seq_eng_final = pad_sequences(seq_eng,maxlen=max_length,padding=\"post\")\n",
        "seq_fr_final = pad_sequences(seq_fr,maxlen=max_length,padding=\"post\")\n",
        "\n",
        "print(\"English Vocab Size:\",eng_vocab_size)\n",
        "print(\"French Vocab Size:\",fr_vocab_size)\n",
        "print(\"Maximum length of sequences:\",max_length)"
      ],
      "metadata": {
        "id": "JLI60KmegpGu"
      },
      "execution_count": null,
      "outputs": []
    },
    {
      "cell_type": "markdown",
      "source": [],
      "metadata": {
        "id": "jM7mZ-SQgxzk"
      }
    },
    {
      "cell_type": "markdown",
      "source": [
        "TRAIN AND TEST SPLIT"
      ],
      "metadata": {
        "id": "aXINDRipgx02"
      }
    },
    {
      "cell_type": "code",
      "source": [
        "from sklearn.model_selection import train_test_split"
      ],
      "metadata": {
        "id": "Xe6403FagynC"
      },
      "execution_count": null,
      "outputs": []
    },
    {
      "cell_type": "code",
      "source": [
        "X_train,X_test,y_train,y_test = train_test_split(seq_eng_final,\n",
        "                                                 seq_fr_final,\n",
        "                                                 test_size=0.2,\n",
        "                                                 shuffle=True,\n",
        "                                                 random_state=42)\n",
        "X_train.shape,X_test.shape,y_train.shape,y_test.shape"
      ],
      "metadata": {
        "id": "cH4m-y02g2T8"
      },
      "execution_count": null,
      "outputs": []
    },
    {
      "cell_type": "markdown",
      "source": [
        "MODEL BUILDING - SEQUENTIAL"
      ],
      "metadata": {
        "id": "9g5fTDfRg6kX"
      }
    },
    {
      "cell_type": "code",
      "source": [
        "from keras.models import Model, Sequential\n",
        "from keras.layers import TimeDistributed, RepeatVector,Bidirectional\n",
        "from keras.layers import Input,LSTM, Dense, Embedding, Attention\n",
        "vector_length = 100\n",
        "model = Sequential()\n",
        "model.add(Embedding(input_dim=eng_vocab_size,output_dim=vector_length,input_length=max_length,mask_zero=True))\n",
        "model.add(Bidirectional(LSTM(256)))\n",
        "model.add(RepeatVector(max_length))\n",
        "model.add(LSTM(256,return_sequences=True))\n",
        "model.add(TimeDistributed(Dense(fr_vocab_size,activation=\"softmax\")))\n",
        "print(model.summary())"
      ],
      "metadata": {
        "id": "LncSzk13g_Zf"
      },
      "execution_count": null,
      "outputs": []
    },
    {
      "cell_type": "markdown",
      "source": [
        "MODEL TRAINING"
      ],
      "metadata": {
        "id": "7xBOANpwhFy2"
      }
    },
    {
      "cell_type": "code",
      "source": [
        "model.compile(optimizer=\"adam\",loss=\"sparse_categorical_crossentropy\",metrics=['accuracy'])\n",
        "model.fit(X_train,y_train,epochs=1,validation_data=(X_test,y_test))"
      ],
      "metadata": {
        "id": "gfdvirfthJ-e"
      },
      "execution_count": null,
      "outputs": []
    },
    {
      "cell_type": "markdown",
      "source": [
        "PREDICTIONS"
      ],
      "metadata": {
        "id": "clsf-hjLhP-Y"
      }
    },
    {
      "cell_type": "code",
      "source": [
        "from tensorflow.keras.preprocessing.sequence import pad_sequences\n",
        "from keras.utils import to_categorical, plot_model"
      ],
      "metadata": {
        "id": "fcy1aQGUhR6v"
      },
      "execution_count": null,
      "outputs": []
    },
    {
      "cell_type": "code",
      "source": [
        "from tensorflow.keras.preprocessing.sequence import pad_sequences\n",
        "import numpy as np\n",
        "def translation(input_sentence):\n",
        "    input_sentence = preprocess_text(str(input_sentence))\n",
        "    input_seq = eng_tokenizer.texts_to_sequences([input_sentence])\n",
        "    input_seq_final = pad_sequences(input_seq,maxlen=max_length,padding=\"post\")\n",
        "    prediction = model.predict([input_seq_final])\n",
        "    output_translation = np.argmax(prediction,axis=-1)\n",
        "\n",
        "    output_sentence = []\n",
        "    for i in output_translation[0]:\n",
        "        if i in fr_tokenizer.index_word:\n",
        "            output_sentence.append(fr_tokenizer.index_word[i])\n",
        "        else:\n",
        "            output_sentence.append(' ')\n",
        "    return ' '.join(output_sentence)\n",
        "input_sentence= \"Where are you going?\"\n",
        "translated = translation(input_sentence)\n",
        "print(f\"Input: {input_sentence}\")\n",
        "print(f\"Translated: {translated}\")"
      ],
      "metadata": {
        "id": "lXkSvPf1hVjQ"
      },
      "execution_count": null,
      "outputs": []
    },
    {
      "cell_type": "code",
      "source": [],
      "metadata": {
        "id": "GWzqcE2Ihjwv"
      },
      "execution_count": null,
      "outputs": []
    }
  ]
}