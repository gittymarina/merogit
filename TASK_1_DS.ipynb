{
  "nbformat": 4,
  "nbformat_minor": 0,
  "metadata": {
    "colab": {
      "private_outputs": true,
      "provenance": [],
      "authorship_tag": "ABX9TyPEn91ocBgrMv31J0xZX/iR",
      "include_colab_link": true
    },
    "kernelspec": {
      "name": "python3",
      "display_name": "Python 3"
    },
    "language_info": {
      "name": "python"
    }
  },
  "cells": [
    {
      "cell_type": "markdown",
      "metadata": {
        "id": "view-in-github",
        "colab_type": "text"
      },
      "source": [
        "<a href=\"https://colab.research.google.com/github/gittymarina/merogit/blob/master/TASK_1_DS.ipynb\" target=\"_parent\"><img src=\"https://colab.research.google.com/assets/colab-badge.svg\" alt=\"Open In Colab\"/></a>"
      ]
    },
    {
      "cell_type": "code",
      "execution_count": null,
      "metadata": {
        "id": "MmyoOYBKXQ8Q"
      },
      "outputs": [],
      "source": [
        "#LOADING OUR DATASET\n",
        "import pandas as pd\n",
        "df=pd.read_csv('/content/bank (1).csv',sep=\";\")\n",
        "df"
      ]
    },
    {
      "cell_type": "markdown",
      "source": [
        "FINDING NULL VALUES IF THERE IS ANY IN OUR DATASET"
      ],
      "metadata": {
        "id": "4AoHBKZWacpK"
      }
    },
    {
      "cell_type": "code",
      "source": [
        "df.isnull().sum()"
      ],
      "metadata": {
        "id": "LCg4HzfMY_Xv"
      },
      "execution_count": null,
      "outputs": []
    },
    {
      "cell_type": "markdown",
      "source": [
        "WE HAVE NO NULL VALUES IN THE DATASET"
      ],
      "metadata": {
        "id": "PZ50ZywCaRyp"
      }
    },
    {
      "cell_type": "markdown",
      "source": [
        "INFORMATION OF OUR DATASET\n"
      ],
      "metadata": {
        "id": "5_ecZOp4ap1O"
      }
    },
    {
      "cell_type": "code",
      "source": [
        "df.info()"
      ],
      "metadata": {
        "id": "fIq6JWi1ZIen"
      },
      "execution_count": null,
      "outputs": []
    },
    {
      "cell_type": "markdown",
      "source": [
        "**HEATMAP**"
      ],
      "metadata": {
        "id": "gqyuBiI-ax-y"
      }
    },
    {
      "cell_type": "code",
      "source": [
        "import seaborn as sns\n",
        "import matplotlib.pyplot as plt\n",
        "plt.figure(figsize=(10,10))\n",
        "sns.heatmap(df.corr(),annot=True,cmap=\"viridis\")"
      ],
      "metadata": {
        "id": "HjbNQsUTZPda"
      },
      "execution_count": null,
      "outputs": []
    },
    {
      "cell_type": "markdown",
      "source": [
        "\n",
        "\n",
        "IN THIS HEATMAP WE INFER THAT \"EURIBOR3M\" AND \"NR.EMPLOYED\" ARE STRONGLY CORRELATED."
      ],
      "metadata": {
        "id": "eQTNKXLVZ6E1"
      }
    },
    {
      "cell_type": "markdown",
      "source": [
        "**PAIRPLOT**"
      ],
      "metadata": {
        "id": "eiTncuOttBrC"
      }
    },
    {
      "cell_type": "code",
      "source": [
        "sns.pairplot(data=df,vars=['pdays',\"emp.var.rate\",\"cons.price.idx\",\"euribor3m\",\"nr.employed\"])"
      ],
      "metadata": {
        "id": "2_jLTcLOde0N"
      },
      "execution_count": null,
      "outputs": []
    },
    {
      "cell_type": "markdown",
      "source": [
        "\n",
        "\n",
        "WE INFER FROM THE PAIRPLOT THAT \"EURIBOR3M\" AND \"NR.EMPLOYED\" ARE STRONGLY CORRELATED AND OTHER VARAIABLES ARE LIGHTLY AND MODERATEL"
      ],
      "metadata": {
        "id": "SDYl4fUryihV"
      }
    },
    {
      "cell_type": "code",
      "source": [
        "df.corr()"
      ],
      "metadata": {
        "id": "ICuEo4XJZxjE"
      },
      "execution_count": null,
      "outputs": []
    },
    {
      "cell_type": "markdown",
      "source": [
        "**BAR PLOT**"
      ],
      "metadata": {
        "id": "C28HfI7Jzw-N"
      }
    },
    {
      "cell_type": "code",
      "source": [
        "sns.barplot(data=df,x=\"default\",y=\"age\")\n",
        "plt.title(\"DISTRIBUTION OF DEFAULT CREDITS BY AGE\")\n",
        "plt.xlabel(\"default\")\n",
        "plt.ylabel(\"age\")\n",
        "plt.show"
      ],
      "metadata": {
        "id": "XrN2BsizlAjG"
      },
      "execution_count": null,
      "outputs": []
    },
    {
      "cell_type": "markdown",
      "source": [
        "\n",
        "\n",
        "IN THIS BARPLOT WE INFER THAT THERE ARE MORE PEOPLE UNTIL AGE 42 HAS CERDIT  DEFAULTS AND THERE ARE MORE UNKNOWN CREDIT DEFAULTS TOO AND WHEN COMPARED TO YES AND UNKNOWN CATEGORY THERE IS LESS PEOPLE WHO HAS  NO CREDIT DEFAULTS"
      ],
      "metadata": {
        "id": "1yrSKhFKeNB6"
      }
    },
    {
      "cell_type": "code",
      "source": [
        "#PLOTTING BARPLOT FOR VARIOUS CATEGORICAL COLUMNS\n",
        "c=['job','marital','education']\n",
        "for i,col in enumerate(c,1):\n",
        "  plt.figure(figsize=(30,30))\n",
        "  plt.subplot(5,2,i)\n",
        "  sns.countplot(data=df,x=col,hue='loan')\n",
        "  plt.xlabel(col)\n",
        "  plt.ylabel('count')\n",
        "plt.show()"
      ],
      "metadata": {
        "id": "Q_dBL8e6m3Ov"
      },
      "execution_count": null,
      "outputs": []
    },
    {
      "cell_type": "markdown",
      "source": [
        "IN THESE BARPLOT WE INFER THAT ADMINISTRATION JOBS HAVE THE HIGHEST NUMBER OF PERSONAL LOANS,MARRIED PEOPLE HAS THE HIGHEST NUMBER OF PERSONAL LOAN HOLDERS& AND UNIVERSITY DEGREE PEOPLE HAS THE HIGHEST NUMBER OF PERSONAL LOAN."
      ],
      "metadata": {
        "id": "wrM9FX6nnjEY"
      }
    },
    {
      "cell_type": "code",
      "source": [
        "plt.figure(figsize=(20,20))\n",
        "sns.barplot(x=\"age\",y=\"pdays\",data=df)"
      ],
      "metadata": {
        "id": "a-QkuJvFcCyh"
      },
      "execution_count": null,
      "outputs": []
    },
    {
      "cell_type": "markdown",
      "source": [
        "in this barplot we infer that in the age of around 89 to 95 clients has the highest  number of days that passed by after the client was last contacted from a previous campaign"
      ],
      "metadata": {
        "id": "MHfUk5LLe9oQ"
      }
    }
  ]
}