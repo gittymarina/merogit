{
  "nbformat": 4,
  "nbformat_minor": 0,
  "metadata": {
    "colab": {
      "private_outputs": true,
      "provenance": [],
      "authorship_tag": "ABX9TyNvcIbjU7o7pMFgJsVIbZLv",
      "include_colab_link": true
    },
    "kernelspec": {
      "name": "python3",
      "display_name": "Python 3"
    },
    "language_info": {
      "name": "python"
    }
  },
  "cells": [
    {
      "cell_type": "markdown",
      "metadata": {
        "id": "view-in-github",
        "colab_type": "text"
      },
      "source": [
        "<a href=\"https://colab.research.google.com/github/gittymarina/merogit/blob/master/TASK_3_DS.ipynb\" target=\"_parent\"><img src=\"https://colab.research.google.com/assets/colab-badge.svg\" alt=\"Open In Colab\"/></a>"
      ]
    },
    {
      "cell_type": "code",
      "execution_count": null,
      "metadata": {
        "id": "Esep6rwZGzHe"
      },
      "outputs": [],
      "source": [
        "#LOADING OUR DATASET\n",
        "import pandas as pd\n",
        "df=pd.read_csv(\"/content/bank.csv\",sep=\";\")\n",
        "df"
      ]
    },
    {
      "cell_type": "markdown",
      "source": [
        "PERFORMING SOME EXPLORATORY DATA ANALYSIS"
      ],
      "metadata": {
        "id": "nCrdsLfgJvp-"
      }
    },
    {
      "cell_type": "code",
      "source": [
        "#INFORMATION ABOUT OUR DATASET\n",
        "df.info()"
      ],
      "metadata": {
        "id": "KKGMRrjuJ02o"
      },
      "execution_count": null,
      "outputs": []
    },
    {
      "cell_type": "code",
      "source": [
        "#CHECKING FOR THE NULL VALUES\n",
        "df.isnull().sum()"
      ],
      "metadata": {
        "id": "D9jLW8-2KDtT"
      },
      "execution_count": null,
      "outputs": []
    },
    {
      "cell_type": "code",
      "source": [
        "#DROPPING THE DUPLICATES\n",
        "df.drop_duplicates()"
      ],
      "metadata": {
        "id": "hCjht-a8KOZQ"
      },
      "execution_count": null,
      "outputs": []
    },
    {
      "cell_type": "code",
      "source": [
        "#COUNTING THE VALUES\n",
        "df.dtypes.value_counts()"
      ],
      "metadata": {
        "id": "XQtDXiXDKcEq"
      },
      "execution_count": null,
      "outputs": []
    },
    {
      "cell_type": "code",
      "source": [
        "#DESCRIPTION OF OUR DATASET\n",
        "df.describe()"
      ],
      "metadata": {
        "id": "G1wj94SEKyYz"
      },
      "execution_count": null,
      "outputs": []
    },
    {
      "cell_type": "markdown",
      "source": [
        "**IN THIS DATASET \"Y\" IS OUR TARGET COLUMN. WE HAVE TO PREDICT IF THE CLIENT WILL SUBSCRIBE(YES/NO) TO A TERM DEPOSIT**"
      ],
      "metadata": {
        "id": "R1KxlrAALWj8"
      }
    },
    {
      "cell_type": "code",
      "source": [
        "#plotting the \"subscribed\" to know the frequency\n",
        "import seaborn as sns\n",
        "sns.countplot(data=df,x=\"y\")\n"
      ],
      "metadata": {
        "id": "evgpSuqtLCYS"
      },
      "execution_count": null,
      "outputs": []
    },
    {
      "cell_type": "code",
      "source": [
        "#counting the values of \"y\" frequency\n",
        "df[\"y\"].value_counts()"
      ],
      "metadata": {
        "id": "Rz9YJNt-L7l-"
      },
      "execution_count": null,
      "outputs": []
    },
    {
      "cell_type": "markdown",
      "source": [
        "**WE OBSERVE THAT OUT OF 4,521 VALUES IN THE DATASET THERE ARE 4000 CLIENTS WHO HAS NOT SUBSCRIBED AND 521 CLIENTS HAVE SUBSCRIBED FOR A TERM DEPOSIT**"
      ],
      "metadata": {
        "id": "mNBvaqK_MSDJ"
      }
    },
    {
      "cell_type": "markdown",
      "source": [
        "**HEAT MAP**"
      ],
      "metadata": {
        "id": "OCqrYTWaNLz9"
      }
    },
    {
      "cell_type": "code",
      "source": [
        "import matplotlib.pyplot as plt\n",
        "plt.figure(figsize=(12,8))\n",
        "sns.heatmap(df.corr(),cmap=\"PiYG\",annot=True)"
      ],
      "metadata": {
        "id": "0m2vTOm7M5Ao"
      },
      "execution_count": null,
      "outputs": []
    },
    {
      "cell_type": "markdown",
      "source": [
        "**BARPLOTS**"
      ],
      "metadata": {
        "id": "HkYwtAMrOpOa"
      }
    },
    {
      "cell_type": "code",
      "source": [
        "c=[\"job\",\"marital\",\"education\",\"default\",\"housing\",\"loan\",\"month\",\"contact\"]\n",
        "for i,col in enumerate(c,1):\n",
        "  plt.figure(figsize=(70,40))\n",
        "  plt.subplot(5,5,i)\n",
        "  sns.countplot(data=df,x=col,hue='y')\n",
        "  plt.xlabel(col)\n",
        "  plt.ylabel('count')\n",
        "plt.show()"
      ],
      "metadata": {
        "id": "rdfuaO4YO8oU"
      },
      "execution_count": null,
      "outputs": []
    },
    {
      "cell_type": "markdown",
      "source": [
        "**OBSERVATION**\n",
        "\n",
        "\n",
        "\n",
        "*   MAJORITY OF CLIENTS HOLD THE OCCUPATION OF MANAGEMENT BASED ON JOB COLUMN\n",
        "*   MOST OF THE PEOPLE WHO ARE CONTACTED ARE MARRIED\n",
        "*   MOST OF THE PEOPLE WHO ARE CONTACTED HAVE SECONDARY EDUCATION\n",
        "*   VERY FEW CLIENTS ARE CONTACTED WHO ARE DEFAULTERS\n",
        "*   FEWER CLIENTS ARE CONTACTED WHO HAVE LOANS\n",
        "*   MOST PEOPLE ARE CONTACTED THROUGH CELLULAR\n",
        "\n",
        "\n",
        "\n",
        "\n",
        "\n"
      ],
      "metadata": {
        "id": "N_Zuq1XuRbQe"
      }
    },
    {
      "cell_type": "markdown",
      "source": [
        "**MODEL BUILDING**"
      ],
      "metadata": {
        "id": "btqqYVwuTBpW"
      }
    },
    {
      "cell_type": "markdown",
      "source": [
        "**LOGISTIC REGRESSION**"
      ],
      "metadata": {
        "id": "k7oX4aJJTTIe"
      }
    },
    {
      "cell_type": "code",
      "source": [
        "from sklearn.model_selection import train_test_split\n",
        "from sklearn.linear_model import LogisticRegression\n",
        "from sklearn.metrics import accuracy_score,classification_report,confusion_matrix\n",
        "from sklearn.tree import DecisionTreeClassifier"
      ],
      "metadata": {
        "id": "V4r8wqD1ShBh"
      },
      "execution_count": null,
      "outputs": []
    },
    {
      "cell_type": "markdown",
      "source": [
        "**LABEL ENCODING OUR VALUES AS WE HAVE STRING VALUES**"
      ],
      "metadata": {
        "id": "4aeRlauxWWQ1"
      }
    },
    {
      "cell_type": "code",
      "source": [
        "from sklearn.preprocessing import LabelEncoder\n",
        "encoder=LabelEncoder()\n",
        "for i in df.columns:\n",
        "  df[i]=encoder.fit_transform(df[i])"
      ],
      "metadata": {
        "id": "bFkhfu8cWfRE"
      },
      "execution_count": null,
      "outputs": []
    },
    {
      "cell_type": "code",
      "source": [
        "#creating an object of logistic regression model\n",
        "model=LogisticRegression()\n",
        "#fixing our x and y values\n",
        "x=df.drop('y',axis=1)\n",
        "y=df['y']\n",
        "#spliting our data to train and test\n",
        "x_train,x_test,y_train,y_test=train_test_split(x,y,train_size=0.8,random_state=42)\n",
        "#creating dummy variables for categorical features\n",
        "x=pd.get_dummies(x,drop_first=True)\n",
        "#fitting the data into our model\n",
        "model.fit(x_train,y_train)\n",
        "#making predictions\n",
        "predictions = model.predict(x_test)\n",
        "#calculating accuracy score\n",
        "accuracy = accuracy_score(y_test,predictions)\n",
        "#calculating confusion matrix\n",
        "conf_matrix = confusion_matrix(y_test,predictions)\n",
        "#calculating classification report\n",
        "class_report = classification_report(y_test,predictions)\n",
        "print(\"Accuracy:\",accuracy)\n",
        "print(\"Confusion_matrix:\\n\",conf_matrix)\n",
        "print(\"Classification_report:\\n\",class_report)"
      ],
      "metadata": {
        "id": "V4EGC0QNUdYd"
      },
      "execution_count": null,
      "outputs": []
    },
    {
      "cell_type": "markdown",
      "source": [
        "**we have received 88% of accuracy score through logistic regression model**"
      ],
      "metadata": {
        "id": "rsjQYoy2ZAxY"
      }
    },
    {
      "cell_type": "markdown",
      "source": [
        "**DESICION TREE CLASSIFIER**"
      ],
      "metadata": {
        "id": "u5wCtqVUWwCl"
      }
    },
    {
      "cell_type": "code",
      "source": [
        "#creating an object of desicion tree model\n",
        "des=DecisionTreeClassifier()\n",
        "#fitting the data into the model\n",
        "des.fit(x_train,y_train)\n",
        "#making predictions\n",
        "y_pred=des.predict(x_test)\n",
        "#calculating accuracy score\n",
        "accuracy_rf=accuracy_score(y_test,y_pred)\n",
        "#calculating confusion matrix\n",
        "confusion_Mat=confusion_matrix(y_test,y_pred)\n",
        "\n",
        "\n",
        "print(\"accuracy:\",accuracy_rf)\n",
        "print(\"confusion matrix:\\n\",confusion_Mat)\n"
      ],
      "metadata": {
        "id": "QZJqjUdrW0ez"
      },
      "execution_count": null,
      "outputs": []
    },
    {
      "cell_type": "code",
      "source": [
        "#calculating classification report\n",
        "print(classification_report(y_test,y_pred))"
      ],
      "metadata": {
        "id": "Rchcmi1vYQx5"
      },
      "execution_count": null,
      "outputs": []
    },
    {
      "cell_type": "markdown",
      "source": [
        "**we have achieved 87% of accuracy score through desicion tree model**"
      ],
      "metadata": {
        "id": "VMvv4Y9eYw9F"
      }
    }
  ]
}