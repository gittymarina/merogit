{
  "nbformat": 4,
  "nbformat_minor": 0,
  "metadata": {
    "colab": {
      "private_outputs": true,
      "provenance": [],
      "authorship_tag": "ABX9TyM5swa8sgQvZwziec2pxL42",
      "include_colab_link": true
    },
    "kernelspec": {
      "name": "python3",
      "display_name": "Python 3"
    },
    "language_info": {
      "name": "python"
    }
  },
  "cells": [
    {
      "cell_type": "markdown",
      "metadata": {
        "id": "view-in-github",
        "colab_type": "text"
      },
      "source": [
        "<a href=\"https://colab.research.google.com/github/gittymarina/merogit/blob/master/ML_(linear_regression).ipynb\" target=\"_parent\"><img src=\"https://colab.research.google.com/assets/colab-badge.svg\" alt=\"Open In Colab\"/></a>"
      ]
    },
    {
      "cell_type": "code",
      "execution_count": null,
      "metadata": {
        "id": "sZxXdaMAOT6N"
      },
      "outputs": [],
      "source": [
        "import pandas as pd\n",
        "df=pd.read_csv('Fish_dataset.csv')\n",
        "df"
      ]
    },
    {
      "cell_type": "code",
      "source": [
        "df.isnull().sum()"
      ],
      "metadata": {
        "id": "vmoT1oCnO5yw"
      },
      "execution_count": null,
      "outputs": []
    },
    {
      "cell_type": "code",
      "source": [
        "subset_cols=['Length1','Length2','Length3','Height','Width']\n",
        "df.drop_duplicates(subset=subset_cols)"
      ],
      "metadata": {
        "id": "brLDZnn8PCK1"
      },
      "execution_count": null,
      "outputs": []
    },
    {
      "cell_type": "code",
      "source": [
        "df.describe()"
      ],
      "metadata": {
        "id": "qeUvPWvHWAI4"
      },
      "execution_count": null,
      "outputs": []
    },
    {
      "cell_type": "code",
      "source": [
        "species=df['Species'].value_counts()\n",
        "species=pd.DataFrame(species)\n",
        "species"
      ],
      "metadata": {
        "id": "MhHPT1OZPKUu"
      },
      "execution_count": null,
      "outputs": []
    },
    {
      "cell_type": "code",
      "source": [
        "import seaborn as sns\n",
        "import matplotlib.pyplot as plt\n",
        "sns.barplot(x=species.index, y=species['Species']);\n",
        "plt.xlabel('Species')\n",
        "plt.ylabel('Counts of Species')\n",
        "plt.show()"
      ],
      "metadata": {
        "id": "wbqLjt_pP3Tt"
      },
      "execution_count": null,
      "outputs": []
    },
    {
      "cell_type": "code",
      "source": [
        "sns.boxplot(x=df['Weight']);"
      ],
      "metadata": {
        "id": "axpzyzZSS5Al"
      },
      "execution_count": null,
      "outputs": []
    },
    {
      "cell_type": "code",
      "source": [
        "dfw=df['Weight']\n",
        "dfw_IQR=(dfw.quantile(0.75)-(dfw.quantile(0.25)))\n",
        "dfw_lower=dfw.quantile(0.25)-(1.5*dfw_IQR)\n",
        "dfw_upper=dfw.quantile(0.75)+(1.5*dfw_IQR)\n",
        "\n"
      ],
      "metadata": {
        "id": "FattsXEWTGq5"
      },
      "execution_count": null,
      "outputs": []
    },
    {
      "cell_type": "code",
      "source": [
        "dfw_outliers=dfw[(dfw < dfw_lower) | (dfw > dfw_upper)]\n",
        "dfw_outliers"
      ],
      "metadata": {
        "id": "MyDCgKH4VoCu"
      },
      "execution_count": null,
      "outputs": []
    },
    {
      "cell_type": "code",
      "source": [
        "sns.boxplot(x=df['Length1']);"
      ],
      "metadata": {
        "id": "fiN-lQuwcv1J"
      },
      "execution_count": null,
      "outputs": []
    },
    {
      "cell_type": "code",
      "source": [
        "dfl1 = df['Length1']\n",
        "dfl1_IQR = (dfl1.quantile(0.75)) - (dfl1.quantile(0.25))\n",
        "dfl1_lower = dfl1.quantile(0.25)- (1.5 * dfl1_IQR)\n",
        "dfl1_upper = dfl1.quantile(0.75) + (1.5 * dfl1_IQR)\n",
        "\n",
        "dfl1_outliers = dfl1[(dfl1 < dfl1_lower) | (dfl1 > dfl1_upper)]\n",
        "dfl1_outliers"
      ],
      "metadata": {
        "id": "FMgpnVkadMia"
      },
      "execution_count": null,
      "outputs": []
    },
    {
      "cell_type": "code",
      "source": [
        "sns.boxplot(x=df['Length2']);"
      ],
      "metadata": {
        "id": "JCv9kJZwePnv"
      },
      "execution_count": null,
      "outputs": []
    },
    {
      "cell_type": "code",
      "source": [
        "dfl2 = df['Length2']\n",
        "dfl2_IQR = dfl2.quantile(0.75) - dfl2.quantile(0.25)\n",
        "dfl2_lower= dfl2.quantile(0.25) - (1.5 * dfl2_IQR)\n",
        "dfl2_upper = dfl2.quantile(0.75) + (1.5 * dfl2_IQR)\n",
        "\n",
        "dfl2_outliers = dfl2[(dfl2 < dfl2_lower) | (dfl2 > dfl2_upper)]\n",
        "dfl2_outliers"
      ],
      "metadata": {
        "id": "2VnC0Elceayb"
      },
      "execution_count": null,
      "outputs": []
    },
    {
      "cell_type": "code",
      "source": [
        "sns.boxplot(x=df['Length3']);\n"
      ],
      "metadata": {
        "id": "xbIF-zD_gj7Y"
      },
      "execution_count": null,
      "outputs": []
    },
    {
      "cell_type": "code",
      "source": [
        "dfl3 = df['Length3']\n",
        "dfl3_IQR = dfl3.quantile(0.75) - dfl3.quantile(0.25)\n",
        "dfl3_lower = dfl3.quantile(0.25) - (1.5 * dfl3_IQR)\n",
        "dfl3_upper= dfl3.quantile(0.75) + (1.5 * dfl3_IQR)\n",
        "\n",
        "dfl3_outliers = dfl3[(dfl3 < dfl3_lower) | (dfl3 > dfl3_upper)]\n",
        "dfl3_outliers"
      ],
      "metadata": {
        "id": "Ivk_20mSgnzU"
      },
      "execution_count": null,
      "outputs": []
    },
    {
      "cell_type": "code",
      "source": [
        "df1 = df.drop([142,143,144])\n",
        "df1.describe()"
      ],
      "metadata": {
        "id": "cRyCWudlhm69"
      },
      "execution_count": null,
      "outputs": []
    },
    {
      "cell_type": "code",
      "source": [
        "from sklearn.preprocessing import StandardScaler\n",
        "from sklearn.model_selection import train_test_split,GridSearchCV\n",
        "from sklearn.metrics import mean_squared_error,mean_absolute_error,r2_score\n",
        "from sklearn.linear_model import Lasso ,Ridge\n",
        "x=df[['Length1','Length2','Length3','Species','Height','Width']]\n",
        "y=df['Weight']\n",
        "x=pd.get_dummies(x,drop_first=True)\n",
        "x_train,x_test,y_train,y_test=train_test_split(x,y,train_size=0.8,random_state=42)\n",
        "lasso_model=Lasso()\n",
        "ridge_model=Ridge()\n",
        "alpha_values=[0.001,0.01,0.1,1]\n",
        "lasso_grid_search=GridSearchCV(lasso_model,{'alpha':alpha_values},cv=5)\n",
        "ridge_grid_search=GridSearchCV(ridge_model,{'alpha':alpha_values},cv=5)\n",
        "lasso_grid_search.fit(x_train,y_train)\n",
        "ridge_grid_search.fit(x_train,y_train)\n",
        "best_lasso_params=lasso_grid_search.best_params_\n",
        "best_lasso_score=lasso_grid_search.best_score_\n",
        "best_ridge_params=ridge_grid_search.best_params_\n",
        "best_ridge_score=ridge_grid_search.best_score_\n",
        "print('best lasso parameters:',best_lasso_params)\n",
        "print('best lasso score:',best_lasso_score)\n",
        "print('best ridge parameters:',best_ridge_params)\n",
        "print('best ridge score:',best_ridge_score)\n",
        "\n",
        "\n",
        "\n",
        "\n",
        "\n",
        "\n",
        "\n"
      ],
      "metadata": {
        "id": "_gG3gcFWhtXq"
      },
      "execution_count": null,
      "outputs": []
    },
    {
      "cell_type": "code",
      "source": [
        "from sklearn.linear_model import LinearRegression\n",
        "from sklearn.model_selection import KFold,cross_val_score,cross_val_predict\n",
        "from sklearn.metrics import r2_score\n",
        "\n",
        "reg=LinearRegression()\n",
        "K_fold=KFold(n_splits=10,shuffle=True,random_state=42)\n",
        "cv_scores=cross_val_score(reg,x,y,cv=K_fold)\n",
        "cv_predictions=cross_val_predict(reg,x,y,cv=K_fold)\n",
        "r2_scr=r2_score(y,cv_predictions)\n",
        "print(\"r_squared:\",r2_scr)\n",
        "\n",
        "\n",
        "\n"
      ],
      "metadata": {
        "id": "3pl4Ynxg907_"
      },
      "execution_count": null,
      "outputs": []
    },
    {
      "cell_type": "code",
      "source": [
        "y_pred=reg.predict(x_test)\n",
        "mse=mean_squared_error(y_test,y_pred)\n",
        "mae=mean_absolute_error(y_test,y_pred)\n",
        "r2=r2_score(y_test,y_pred)\n",
        "print(\"mean_squared_error=\",mse)\n",
        "print(\"mean_absolute_error=\",mae)\n",
        "print(\"r2=\",r2)"
      ],
      "metadata": {
        "id": "BN8AEPI0mLB0"
      },
      "execution_count": null,
      "outputs": []
    },
    {
      "cell_type": "code",
      "source": [
        "score=reg.score(x_test,y_test)\n",
        "print(score)\n",
        "print(score*100,\"%\")"
      ],
      "metadata": {
        "id": "3NjsVS4AonDn"
      },
      "execution_count": null,
      "outputs": []
    },
    {
      "cell_type": "code",
      "source": [
        "y_pred1 = pd.DataFrame(y_pred, columns=['Estimated Weight'])\n",
        "y_pred1.head()"
      ],
      "metadata": {
        "id": "CR3ow1K8mcpm"
      },
      "execution_count": null,
      "outputs": []
    },
    {
      "cell_type": "code",
      "source": [
        "y_test1 = pd.DataFrame(y_test)\n",
        "y_test1 = y_test1.reset_index(drop=True)\n",
        "y_test1.head()"
      ],
      "metadata": {
        "id": "BuY_te0inv9n"
      },
      "execution_count": null,
      "outputs": []
    },
    {
      "cell_type": "code",
      "source": [
        "ynew = pd.concat([y_test1, y_pred1], axis=1)\n",
        "ynew"
      ],
      "metadata": {
        "id": "QL90FdAZof5-"
      },
      "execution_count": null,
      "outputs": []
    }
  ]
}